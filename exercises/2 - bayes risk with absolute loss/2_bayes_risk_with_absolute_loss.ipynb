{
 "cells": [
  {
   "cell_type": "markdown",
   "metadata": {},
   "source": [
    "# Bayes risk with absolute loss"
   ]
  },
  {
   "cell_type": "markdown",
   "metadata": {},
   "source": [
    "### Question 0"
   ]
  },
  {
   "cell_type": "markdown",
   "metadata": {},
   "source": [
    "For this exercise, we choose to use the function : $$f(x) = x^5$$\n",
    "\n",
    "* The derivative of this function is $f'(x) = 5x^4$ It has a zero derivative for : $$x_0 = 0 => f'(x_0) = 5*0^4 = 0$$\n",
    "\n",
    "* Also $x_0$ is not a local extremum of the function because in a local neighborhood :\n",
    "    * When x > 0, $f'(x) = 5x^4 > 0$\n",
    "    * When x < 0, $f'(x) = 5x^4 > 0$"
   ]
  },
  {
   "cell_type": "markdown",
   "metadata": {},
   "source": [
    "### Question 1"
   ]
  },
  {
   "cell_type": "markdown",
   "metadata": {},
   "source": [
    "For this question we'll use this setting :\n",
    " $Y|X = x$ follows an exponential distribution Y|X = x ~ Exponential(λ) with λ = 1/x\n",
    " - As seen in the lessons, the Bayes predictor for the squared loss for this setting is \n",
    " $$f^*(x) = E[Y|X = x]$$\n",
    " $$<=> f^*(x) = E[(y - z)^2|X = x]$$\n",
    " For the exponential distribution, we have Y = 2x.\n",
    " So we have $$f^*(x) = E[(2x - z)^2|X = x] = 2x^2 - 2xz + z^2$$\n",
    " We can see that $f^*(x)$ is minimized for z = x so the bayes predictor for the squared loss is $f^*_{squared}(x) = x$ \n",
    " - As seen in the question, the function for the absolute loss is $l_{absolute}(y, z) = |y - z|$.\n",
    " As we did before, let's find the z value that minimizes $f^*(x)$ : \n",
    " For an exponential distribution $Y∣X=x∼Exponential(λ)$, the cumulative distribution function is:\n",
    " $$F_{Y∣X}=x(y)=1−exp(−y/x)$$\n",
    " The median is the value z such that $FY∣X=x(z)=0.5$:\n",
    " $$0.5=1−exp(−xz​)$$\n",
    " $$exp(-z/x) = 0.5$$\n",
    " $$-z/x = ln(0.5)$$\n",
    " $$z = -x * ln(0.5)$$\n",
    " $$z = x * ln(2)$$\n",
    "So for the squared loss, we have a bayes predictor $f^*(x) = x$ and for the absolute loss, we hav a bayes predictor $f^x(x) = x * ln(2)$. We have a setting that respects the condition."
   ]
  },
  {
   "cell_type": "markdown",
   "metadata": {},
   "source": [
    "Let's run empirical test errors to verify the results:"
   ]
  },
  {
   "cell_type": "code",
   "execution_count": 5,
   "metadata": {},
   "outputs": [],
   "source": [
    "import numpy as np\n",
    "\n",
    "n_samples = 10000\n",
    "lambda_param = 1\n",
    "\n",
    "x_values = np.random.uniform(1, 10, size=n_samples)\n",
    "y_values = np.random.exponential(scale=x_values)\n",
    "\n",
    "split_index = int(n_samples * 0.8)\n",
    "x_train, x_test = x_values[:split_index], x_values[split_index:]\n",
    "y_train, y_test = y_values[:split_index], y_values[split_index:]"
   ]
  },
  {
   "cell_type": "code",
   "execution_count": 6,
   "metadata": {},
   "outputs": [],
   "source": [
    "f_star_squared_train = x_train\n",
    "f_star_squared_test = x_test\n",
    "\n",
    "f_star_absolute_train = x_train * np.log(2)\n",
    "f_star_absolute_test = x_test * np.log(2)"
   ]
  },
  {
   "cell_type": "code",
   "execution_count": 10,
   "metadata": {},
   "outputs": [
    {
     "name": "stdout",
     "output_type": "stream",
     "text": [
      "mean squared error for squared loss predictor: 35.46123246847345\n",
      "mean absolute error for absolute loss predictor: 3.7566420609686673\n"
     ]
    }
   ],
   "source": [
    "from sklearn.metrics import mean_squared_error, mean_absolute_error\n",
    "\n",
    "# Predictions for test set\n",
    "y_pred_squared = x_test\n",
    "y_pred_absolute = x_test * np.log(2)\n",
    "\n",
    "# Compute errors\n",
    "mse_squared = mean_squared_error(y_test, y_pred_squared)\n",
    "mae_absolute = mean_absolute_error(y_test, y_pred_absolute)\n",
    "\n",
    "print(f\"mean squared error for squared loss predictor: {mse_squared}\")\n",
    "print(f\"mean absolute error for absolute loss predictor: {mae_absolute}\")"
   ]
  },
  {
   "cell_type": "markdown",
   "metadata": {},
   "source": [
    "### Question 2"
   ]
  },
  {
   "cell_type": "markdown",
   "metadata": {},
   "source": [
    "Given the setup where P(Y∣X=x)P(Y∣X=x) has a continuous density $pY∣X=x​(y)$ and $Y∣X=x$ has a first moment (mean),\n",
    "\n",
    "The Bayes predictor $flabsolute∗(x)$ for absolute loss minimizes the expected absolute deviation:\n",
    "\n",
    "$flabsolute∗(x)=arg⁡min⁡z∈R∫∣y−z∣pY∣X=x(y) dy$.\n",
    "\n",
    "This can be found at the median of $Y∣X=x$, because the median minimizes the expected absolute deviation from any point.\n",
    "\n",
    "Therefore, $flabsolute∗(x)=median[Y∣X=x]$."
   ]
  }
 ],
 "metadata": {
  "kernelspec": {
   "display_name": "Python 3",
   "language": "python",
   "name": "python3"
  },
  "language_info": {
   "codemirror_mode": {
    "name": "ipython",
    "version": 3
   },
   "file_extension": ".py",
   "mimetype": "text/x-python",
   "name": "python",
   "nbconvert_exporter": "python",
   "pygments_lexer": "ipython3",
   "version": "3.11.9"
  }
 },
 "nbformat": 4,
 "nbformat_minor": 2
}
